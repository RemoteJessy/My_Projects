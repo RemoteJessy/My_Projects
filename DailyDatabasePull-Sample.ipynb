{
 "cells": [
  {
   "cell_type": "code",
   "execution_count": 3,
   "id": "c5e93740-2e6a-4b67-ba7a-7c0ec86d41b3",
   "metadata": {},
   "outputs": [],
   "source": [
    "#imports\n",
    "from datetime import datetime\n",
    "import pandas as pd\n",
    "import numpy as np\n",
    "import psycopg2"
   ]
  },
  {
   "cell_type": "code",
   "execution_count": 4,
   "id": "b488ca8d-4a0c-4972-abf8-bca5fa661339",
   "metadata": {},
   "outputs": [],
   "source": [
    "#changing globals\n",
    "\n",
    "#the date that gets grabed from the excel workbook\n",
    "date_to_grab = \"2023-01-20\"\n",
    "\n",
    "#Midwest USA steel plate from CRU\n",
    "steelPlate = 1438\n",
    "\n",
    "#Chian Steel Plate from CRU\n",
    "chinaPlate = 4350"
   ]
  },
  {
   "cell_type": "code",
   "execution_count": 5,
   "id": "cfa7d412-53f9-4e72-803d-5c51f7aa7570",
   "metadata": {},
   "outputs": [],
   "source": [
    "#globals\n",
    "\n",
    "# filepath = \"C:\\\\Example\\\\FileName.xlsx\"\n",
    "\n",
    "#Temp file path for manual entry\n",
    "filepath = \"C:\\\\Example\\\\FileName.xlsx\"\n",
    "\n",
    "\n",
    "#column headers inside the database, this is used to create the manualCheckDF\n",
    "columns = ['dates','global','china_to_us_west_coast','china_to_us_east_coast','europe_to_us_east_coast',\\\n",
    "            'lme_copper_spot_','lme_aluminum_spot_', 'generic_1st_hrc_future', 'hot_rolled_coil_shanghai',\\\n",
    "            'an_steel_hrc_exwrks','us_midwest_steel_rebar_exwork','lme_steel_rebar','generic_1st_jbp_future',\\\n",
    "            'import_fine_ore', 'lme_nickel_spot_','cn_li2co3_99_del','cn_li2co3_995_del',\\\n",
    "            'lithium_carbonate_china_bat','na_lithium_carbonate_cif_swap','cn_lithium_iron_phosphate_li_3',\\\n",
    "            'solar_grade_polysilicon_price','generic_12th_lp_future','generic_24th_lp_future','generic_36th_lp_future',\\\n",
    "            'generic_12th_la_future','generic_24th_la_future','generic_36th_la_future','generic_6th_hrc_future',\\\n",
    "            'generic_12nd_hrcfuture','generic_15th_hrcfuture','generic_3rd_lfa_future','generic_6th_lfa_future',\\\n",
    "            'generic_12th_lfa_futur','ep_resins_us_liquid_contr_ddp','ep_resins_us_solid_contr_ddp','china_renminbi',\\\n",
    "            'johnson_matthey_platinum_price','johnson_matthey_iridium_price','lme_cobalt_spot_','lme_cobalt_3mo_',\\\n",
    "            'lme_cobalt_15mo_','shanghai_manganese_spot','cn_lioh_565_del','lme_zinc_spot_','shanghai_zinc_0_spot',\\\n",
    "            'steel_plate_usa_midwest_cru','steel_plate_china', 'pv_cell_weekly_spot_polysilicon_price']\n",
    "\n",
    "\n",
    "#a tempalte that gets formated with the numbers pulled form the execl book, its then run and thrown into the database with this query\n",
    "queryTemplate = \"\"\"INSERT INTO commoditydata(Dates,Global,China_to_US_West_Coast,China_to_US_East_Coast,\n",
    "Europe_to_US_East_Coast,LME_COPPER_SPOT_,LME_ALUMINUM_SPOT_,Generic_1st_HRC_Future,Hot_Rolled_Coil_Shanghai,\n",
    "AN_Steel_HRC_ExWrks,US_Midwest_Steel_Rebar_ExWork,LME_STEEL_REBAR,Generic_1st_JBP_Future,Import_Fine_Ore,\n",
    "LME_NICKEL_SPOT_,CN_Li2CO3_99_DEL,CN_Li2CO3_995_DEL,Lithium_Carbonate_China_Bat,NA_Lithium_Carbonate_CIF_Swap,\n",
    "CN_Lithium_Iron_Phosphate_Li_3,Solar_Grade_Polysilicon_Price,Generic_12th_LP_Future,Generic_24th_LP_Future,Generic_36th_LP_Future,\n",
    "Generic_12th_LA_Future,Generic_24th_LA_Future,Generic_36th_LA_Future,Generic_6th_HRC_Future,Generic_12nd_HRCFuture,\n",
    "Generic_15th_HRCFuture,Generic_3rd_LFA_Future,Generic_6th_LFA_Future,Generic_12th_LFA_Futur,Ep_Resins_US_Liquid_Contr_DDP,\n",
    "Ep_Resins_US_Solid_Contr_DDP,CHINA_RENMINBI,Johnson_Matthey_Platinum_Price,Johnson_Matthey_Iridium_Price,\n",
    "LME_COBALT_SPOT_,LME_COBALT_3MO_,LME_COBALT_15MO_,Shanghai_Manganese_Spot,CN_LiOH_565_DEL,LME_ZINC_SPOT_,\n",
    "Shanghai_Zinc_0_Spot,Steel_Plate_USA_Midwest_CRU,Steel_Plate_China, pv_cell_weekly_spot_polysilicon_price) \n",
    "VALUES (%s,%s,%s,%s,%s,%s,%s,%s,%s,%s,%s,%s,%s,%s,%s,%s,%s,%s,%s,%s,%s,%s,%s,\n",
    "%s,%s,%s,%s,%s,%s,%s,%s,%s,%s,%s,%s,%s,%s,%s,%s,%s,%s,%s,%s,%s,%s,%s,%s, %s);\"\"\"\n",
    "\n",
    "metricTonToUSTon = 1.10231\n",
    "tariff = 1.25"
   ]
  },
  {
   "cell_type": "code",
   "execution_count": 6,
   "id": "8420a7ec-52ab-41b1-b088-dd1120a3d598",
   "metadata": {},
   "outputs": [],
   "source": [
    "#connect to the database\n",
    "conn = psycopg2.connect(\n",
    "    host = \"aws-example.amazonaws.com\",\n",
    "    database = \"DBname\",\n",
    "    port = \"2222\",\n",
    "    user = \"example_UN\",\n",
    "    password = \"798645312\")"
   ]
  },
  {
   "cell_type": "code",
   "execution_count": 7,
   "id": "c9a7faba-9f38-47b1-9bc2-5f5da871008d",
   "metadata": {},
   "outputs": [],
   "source": [
    "#read the excel file at the specified path, Grabs the worksheet in the second position\n",
    "DF = pd.read_excel(filepath, 1)"
   ]
  },
  {
   "cell_type": "code",
   "execution_count": 8,
   "id": "ff01084b-d8bf-48db-b8a8-d619d7bda948",
   "metadata": {},
   "outputs": [],
   "source": [
    "#grab row within the read excel sheet where the third column matches the date_to_grab value above\n",
    "row_to_grab = DF[DF[\"Unnamed: 3\"]==datetime.fromisoformat(date_to_grab)].index[0]"
   ]
  },
  {
   "cell_type": "code",
   "execution_count": 9,
   "id": "0177aef8-0848-4913-a98b-c9bfe436f5d6",
   "metadata": {},
   "outputs": [],
   "source": [
    "#grabs that row and turns it into a numpy list\n",
    "inputArr = DF.iloc[row_to_grab].to_numpy()\n",
    "inputArr = inputArr[3:49].tolist()"
   ]
  },
  {
   "cell_type": "code",
   "execution_count": 10,
   "id": "94deb7bb-e53a-45a7-8d15-674fb5dd199e",
   "metadata": {},
   "outputs": [],
   "source": [
    "#The current RMB per USD is grabed from the list and then china plate is converted to USD with an added on tariff of 1.25\n",
    "conversionRateRMB = inputArr[35]\n",
    "chinaPlateConverted = round(((chinaPlate/conversionRateRMB)/metricTonToUSTon) * 1.25, 2)\n",
    "\n",
    "#Polysilicon Cell is grabed from the 45 index and stored for later\n",
    "PolyCellPrice = inputArr[45]"
   ]
  },
  {
   "cell_type": "code",
   "execution_count": 11,
   "id": "5cee59b9-f647-468b-b7f9-9ee69407fc30",
   "metadata": {},
   "outputs": [],
   "source": [
    "#add steelPlate to the 45 index overidding polysilicon then adding both china plate nad polysilicon back onto the list\n",
    "# this is done to make the list match the postions in the database\n",
    "inputArr[45] = steelPlate\n",
    "inputArr.append(chinaPlateConverted)\n",
    "inputArr.append(PolyCellPrice)"
   ]
  },
  {
   "cell_type": "code",
   "execution_count": 12,
   "id": "f7bdcd1a",
   "metadata": {},
   "outputs": [
    {
     "data": {
      "text/html": [
       "<div>\n",
       "<style scoped>\n",
       "    .dataframe tbody tr th:only-of-type {\n",
       "        vertical-align: middle;\n",
       "    }\n",
       "\n",
       "    .dataframe tbody tr th {\n",
       "        vertical-align: top;\n",
       "    }\n",
       "\n",
       "    .dataframe thead th {\n",
       "        text-align: right;\n",
       "    }\n",
       "</style>\n",
       "<table border=\"1\" class=\"dataframe\">\n",
       "  <thead>\n",
       "    <tr style=\"text-align: right;\">\n",
       "      <th></th>\n",
       "      <th>dates</th>\n",
       "      <th>global</th>\n",
       "      <th>china_to_us_west_coast</th>\n",
       "      <th>china_to_us_east_coast</th>\n",
       "      <th>europe_to_us_east_coast</th>\n",
       "      <th>lme_copper_spot_</th>\n",
       "      <th>lme_aluminum_spot_</th>\n",
       "      <th>generic_1st_hrc_future</th>\n",
       "      <th>hot_rolled_coil_shanghai</th>\n",
       "      <th>an_steel_hrc_exwrks</th>\n",
       "      <th>...</th>\n",
       "      <th>lme_cobalt_spot_</th>\n",
       "      <th>lme_cobalt_3mo_</th>\n",
       "      <th>lme_cobalt_15mo_</th>\n",
       "      <th>shanghai_manganese_spot</th>\n",
       "      <th>cn_lioh_565_del</th>\n",
       "      <th>lme_zinc_spot_</th>\n",
       "      <th>shanghai_zinc_0_spot</th>\n",
       "      <th>steel_plate_usa_midwest_cru</th>\n",
       "      <th>steel_plate_china</th>\n",
       "      <th>pv_cell_weekly_spot_polysilicon_price</th>\n",
       "    </tr>\n",
       "  </thead>\n",
       "  <tbody>\n",
       "    <tr>\n",
       "      <th>0</th>\n",
       "      <td>2023-01-20</td>\n",
       "      <td>2238</td>\n",
       "      <td>1361</td>\n",
       "      <td>2812</td>\n",
       "      <td>5507</td>\n",
       "      <td>9301</td>\n",
       "      <td>2558.25</td>\n",
       "      <td>718</td>\n",
       "      <td>4210</td>\n",
       "      <td>762.5</td>\n",
       "      <td>...</td>\n",
       "      <td>48574</td>\n",
       "      <td>49000</td>\n",
       "      <td>50800</td>\n",
       "      <td>17000</td>\n",
       "      <td>492500</td>\n",
       "      <td>3474</td>\n",
       "      <td>24470</td>\n",
       "      <td>1438</td>\n",
       "      <td>726.94</td>\n",
       "      <td>150</td>\n",
       "    </tr>\n",
       "  </tbody>\n",
       "</table>\n",
       "<p>1 rows × 48 columns</p>\n",
       "</div>"
      ],
      "text/plain": [
       "       dates global china_to_us_west_coast china_to_us_east_coast  \\\n",
       "0 2023-01-20   2238                   1361                   2812   \n",
       "\n",
       "  europe_to_us_east_coast lme_copper_spot_ lme_aluminum_spot_  \\\n",
       "0                    5507             9301            2558.25   \n",
       "\n",
       "  generic_1st_hrc_future hot_rolled_coil_shanghai an_steel_hrc_exwrks  ...  \\\n",
       "0                    718                     4210               762.5  ...   \n",
       "\n",
       "  lme_cobalt_spot_ lme_cobalt_3mo_ lme_cobalt_15mo_ shanghai_manganese_spot  \\\n",
       "0            48574           49000            50800                   17000   \n",
       "\n",
       "  cn_lioh_565_del lme_zinc_spot_ shanghai_zinc_0_spot  \\\n",
       "0          492500           3474                24470   \n",
       "\n",
       "  steel_plate_usa_midwest_cru steel_plate_china  \\\n",
       "0                        1438            726.94   \n",
       "\n",
       "  pv_cell_weekly_spot_polysilicon_price  \n",
       "0                                   150  \n",
       "\n",
       "[1 rows x 48 columns]"
      ]
     },
     "execution_count": 12,
     "metadata": {},
     "output_type": "execute_result"
    }
   ],
   "source": [
    "#creates a DF and adds the databases columns to be able to easily manualy check the input arr works\n",
    "manualCheckDF = pd.DataFrame(inputArr).T\n",
    "manualCheckDF.columns = columns\n",
    "manualCheckDF"
   ]
  },
  {
   "cell_type": "code",
   "execution_count": 13,
   "id": "4f5087aa-d21b-4a5c-8ea1-a30a05ca491e",
   "metadata": {},
   "outputs": [],
   "source": [
    "#cursor class to enable queries\n",
    "cur = conn.cursor()"
   ]
  },
  {
   "cell_type": "code",
   "execution_count": 14,
   "id": "34918eea-05f0-4285-8ba6-d58a0e0c2464",
   "metadata": {
    "collapsed": true,
    "jupyter": {
     "outputs_hidden": true
    },
    "tags": []
   },
   "outputs": [
    {
     "ename": "UniqueViolation",
     "evalue": "duplicate key value violates unique constraint \"commoditydata_pkey\"\nDETAIL:  Key (dates)=(2023-01-20) already exists.\n",
     "output_type": "error",
     "traceback": [
      "\u001b[1;31m---------------------------------------------------------------------------\u001b[0m",
      "\u001b[1;31mUniqueViolation\u001b[0m                           Traceback (most recent call last)",
      "Cell \u001b[1;32mIn [14], line 4\u001b[0m\n\u001b[0;32m      1\u001b[0m \u001b[38;5;66;03m#The query template string is and insert query formated with %s \u001b[39;00m\n\u001b[0;32m      2\u001b[0m \u001b[38;5;66;03m#by adding a list to the execute function the query template is automaticaly formated subing out all the %s with values from the list based on position inside the list\u001b[39;00m\n\u001b[0;32m      3\u001b[0m \u001b[38;5;66;03m#for more info check here https://dev.mysql.com/doc/connector-python/en/connector-python-api-mysqlcursor-execute.html\u001b[39;00m\n\u001b[1;32m----> 4\u001b[0m \u001b[43mcur\u001b[49m\u001b[38;5;241;43m.\u001b[39;49m\u001b[43mexecute\u001b[49m\u001b[43m(\u001b[49m\u001b[43mqueryTemplate\u001b[49m\u001b[43m,\u001b[49m\u001b[43minputArr\u001b[49m\u001b[43m)\u001b[49m\n",
      "\u001b[1;31mUniqueViolation\u001b[0m: duplicate key value violates unique constraint \"commoditydata_pkey\"\nDETAIL:  Key (dates)=(2023-01-20) already exists.\n"
     ]
    }
   ],
   "source": [
    "#The query template string is and insert query formated with %s \n",
    "#by adding a list to the execute function the query template is automaticaly formated subing out all the %s with values from the list based on position inside the list\n",
    "#for more info check here https://dev.mysql.com/doc/connector-python/en/connector-python-api-mysqlcursor-execute.html\n",
    "cur.execute(queryTemplate,inputArr)"
   ]
  },
  {
   "cell_type": "code",
   "execution_count": 15,
   "id": "97165f18-f516-4f27-966d-04eab8d946db",
   "metadata": {
    "collapsed": true,
    "jupyter": {
     "outputs_hidden": true
    },
    "tags": []
   },
   "outputs": [
    {
     "ename": "InFailedSqlTransaction",
     "evalue": "current transaction is aborted, commands ignored until end of transaction block\n",
     "output_type": "error",
     "traceback": [
      "\u001b[1;31m---------------------------------------------------------------------------\u001b[0m",
      "\u001b[1;31mInFailedSqlTransaction\u001b[0m                    Traceback (most recent call last)",
      "Cell \u001b[1;32mIn [15], line 2\u001b[0m\n\u001b[0;32m      1\u001b[0m \u001b[38;5;66;03m# grabs the commodity data \u001b[39;00m\n\u001b[1;32m----> 2\u001b[0m \u001b[43mcur\u001b[49m\u001b[38;5;241;43m.\u001b[39;49m\u001b[43mexecute\u001b[49m\u001b[43m(\u001b[49m\u001b[38;5;124;43m\"\u001b[39;49m\u001b[38;5;124;43mSELECT * FROM commoditydata order by dates DESC limit(10);\u001b[39;49m\u001b[38;5;124;43m\"\u001b[39;49m\u001b[43m)\u001b[49m\n",
      "\u001b[1;31mInFailedSqlTransaction\u001b[0m: current transaction is aborted, commands ignored until end of transaction block\n"
     ]
    }
   ],
   "source": [
    "# grabs the commodity data \n",
    "cur.execute(\"SELECT * FROM commoditydata order by dates DESC limit(10);\")"
   ]
  },
  {
   "cell_type": "code",
   "execution_count": 16,
   "id": "43ccf302-ba5e-4159-8a93-efb0f11617cb",
   "metadata": {
    "collapsed": true,
    "jupyter": {
     "outputs_hidden": true
    },
    "tags": []
   },
   "outputs": [
    {
     "ename": "ProgrammingError",
     "evalue": "no results to fetch",
     "output_type": "error",
     "traceback": [
      "\u001b[1;31m---------------------------------------------------------------------------\u001b[0m",
      "\u001b[1;31mProgrammingError\u001b[0m                          Traceback (most recent call last)",
      "Cell \u001b[1;32mIn [16], line 2\u001b[0m\n\u001b[0;32m      1\u001b[0m \u001b[38;5;66;03m#spits out todays update to double check it worked\u001b[39;00m\n\u001b[1;32m----> 2\u001b[0m \u001b[43mcur\u001b[49m\u001b[38;5;241;43m.\u001b[39;49m\u001b[43mfetchone\u001b[49m\u001b[43m(\u001b[49m\u001b[43m)\u001b[49m\n",
      "\u001b[1;31mProgrammingError\u001b[0m: no results to fetch"
     ]
    }
   ],
   "source": [
    "#spits out todays update to double check it worked\n",
    "cur.fetchone()"
   ]
  },
  {
   "cell_type": "code",
   "execution_count": 17,
   "id": "e4a58f63-7723-4cee-9d8f-08095559ed6a",
   "metadata": {},
   "outputs": [],
   "source": [
    "#commit the changes then close the cursor and the connection\n",
    "conn.commit()\n",
    "cur.close()\n",
    "conn.close()"
   ]
  },
  {
   "cell_type": "code",
   "execution_count": 18,
   "id": "6a2c3efb-b5b5-447e-8d15-89f4a35ac6d1",
   "metadata": {},
   "outputs": [],
   "source": [
    "conn.close()"
   ]
  }
 ],
 "metadata": {
  "kernelspec": {
   "display_name": "Python 3 (ipykernel)",
   "language": "python",
   "name": "python3"
  },
  "language_info": {
   "codemirror_mode": {
    "name": "ipython",
    "version": 3
   },
   "file_extension": ".py",
   "mimetype": "text/x-python",
   "name": "python",
   "nbconvert_exporter": "python",
   "pygments_lexer": "ipython3",
   "version": "3.10.8"
  },
  "vscode": {
   "interpreter": {
    "hash": "2b55f9575b94639e4d33d99946019aa4bb86fcfc0b23d43a974dcd90788bd5a9"
   }
  }
 },
 "nbformat": 4,
 "nbformat_minor": 5
}
