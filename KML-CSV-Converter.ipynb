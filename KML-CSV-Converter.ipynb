{
 "cells": [
  {
   "cell_type": "markdown",
   "id": "e0e37433-513e-4d5c-9942-15a8f6db7d3a",
   "metadata": {},
   "source": [
    "# KML to CSV converter"
   ]
  },
  {
   "cell_type": "markdown",
   "id": "7312fbe3-12e4-48de-af10-0ef1c3100eff",
   "metadata": {},
   "source": [
    "## Imports"
   ]
  },
  {
   "cell_type": "code",
   "execution_count": 1,
   "id": "d7b43ddf-a62a-42bd-a34d-d9e413f93084",
   "metadata": {
    "jupyter": {
     "source_hidden": true
    },
    "tags": []
   },
   "outputs": [],
   "source": [
    "from tkinter import Tk\n",
    "from tkinter.filedialog import askopenfilename\n",
    "import geopandas as gpd\n",
    "import pandas as pd\n",
    "import fiona\n",
    "import pprint\n",
    "from xml.dom.minidom import *\n",
    "import pandas as pd\n",
    "import csv\n",
    "import xml.etree.ElementTree as ET\n",
    "import re\n",
    "import numpy as np\n",
    "import os\n",
    "import warnings\n",
    "warnings.simplefilter(action='ignore', category=FutureWarning)\n",
    "import shapely\n",
    "import math\n",
    "from zipfile import ZipFile"
   ]
  },
  {
   "cell_type": "markdown",
   "id": "e64fce17-df5c-442a-81e3-b35ef98657b8",
   "metadata": {},
   "source": [
    "## Functions"
   ]
  },
  {
   "cell_type": "code",
   "execution_count": 2,
   "id": "9a8fae89-9b7a-4783-9fe2-ba8e8474b20b",
   "metadata": {
    "jupyter": {
     "source_hidden": true
    },
    "tags": []
   },
   "outputs": [],
   "source": [
    "# Function to import file and turn into dataframe and returns the dataframe and the filepath-\n",
    "def importKML():\n",
    "    Tk().withdraw()\n",
    "    file = askopenfilename()\n",
    "    print(\"File Uploaded:\", str(file))\n",
    "    fiona.drvsupport.supported_drivers['kml'] = 'rw'\n",
    "    fiona.drvsupport.supported_drivers['KML'] = 'rw'\n",
    "    fiona.drvsupport.supported_drivers['KMZ'] = 'rw'\n",
    "    fiona.drvsupport.supported_drivers['kmz'] = 'rw'\n",
    "    fiona.drvsupport.supported_drivers['LIBKML'] = 'rw'\n",
    "    if file[-3:] == 'kml':\n",
    "        df = gpd.read_file(str(file), driver='KML')\n",
    "    if file[-3:] == 'kmz':\n",
    "        kmz = ZipFile(file, 'r')\n",
    "        kmz.extract('doc.kml', os.path.split(file)[0])\n",
    "        df = gpd.read_file(os.path.split(file)[0]+'/doc.kml', driver='KML')\n",
    "    return df, file"
   ]
  },
  {
   "cell_type": "code",
   "execution_count": 3,
   "id": "494391a2-a19a-4328-9de3-ddaed04bf4c4",
   "metadata": {
    "jupyter": {
     "source_hidden": true
    },
    "tags": []
   },
   "outputs": [],
   "source": [
    "# This function takes two arrays as inputs and assumes the arrays are [x,y] format. \n",
    "# [x,y,...,n] is supported however x and y have to be index 0 and 1 respectively.\n",
    "# The following returns distance in feet\n",
    "def distance(origin, destination):\n",
    "    #grabs the cordinates\n",
    "    lat1 = origin[0]\n",
    "    lon1 = origin[1]\n",
    "    lat2 = destination[0]\n",
    "    lon2 = destination[1]\n",
    "    \n",
    "    # Radius of earth\n",
    "    radius = 3959 # miles\n",
    "\n",
    "    # This is the distance formula for latitude and longitude\n",
    "    dlat = math.radians(lat2-lat1)\n",
    "    dlon = math.radians(lon2-lon1)\n",
    "    a = math.sin(dlat/2) * math.sin(dlat/2) + math.cos(math.radians(lat1)) \\\n",
    "        * math.cos(math.radians(lat2)) * math.sin(dlon/2) * math.sin(dlon/2)\n",
    "    c = 2 * math.atan2(math.sqrt(a), math.sqrt(1-a))\n",
    "    d = radius * c\n",
    "    \n",
    "    # Convert to feet\n",
    "    d = d *5280\n",
    "    return d"
   ]
  },
  {
   "cell_type": "code",
   "execution_count": 4,
   "id": "fc61c3cc-f3b6-43a8-80ad-1fd2fb724016",
   "metadata": {
    "jupyter": {
     "source_hidden": true
    },
    "tags": []
   },
   "outputs": [],
   "source": [
    "# This function takes an array of arrays, assuming arrays are [x,y] coordinate pairs:\n",
    "def perim(inputArr):\n",
    "    # The running total for perimeter\n",
    "    total = 0\n",
    "    # For each coordinate pair in the array-\n",
    "    for i in range(len(inputArr)):\n",
    "        \n",
    "        # If it is the final coordinate pair within the input array then it takes coordinate i and measures the distance between i and index 0\n",
    "        if i == len(inputArr)-1:\n",
    "            total += distance(inputArr[i], inputArr[0])\n",
    "        \n",
    "        # This adds the distance between coordinate pair i and coordinate pair i+1\n",
    "        else:\n",
    "            total += distance(inputArr[i], inputArr[i+1])\n",
    "    \n",
    "    # The total of the distance betwen all points in the input array is the perimeter \n",
    "    return total"
   ]
  },
  {
   "cell_type": "code",
   "execution_count": 5,
   "id": "e45343ec-3ee0-4215-9ed3-1f980135814c",
   "metadata": {
    "jupyter": {
     "source_hidden": true
    },
    "tags": []
   },
   "outputs": [],
   "source": [
    "# Function- empty array that will append with either a perimiter or a blank\n",
    "def perimeterColumnGenerator(series):\n",
    "    \n",
    "    # This turns the series into a list\n",
    "    listedSeries = series.tolist()\n",
    "    \n",
    "    perimiterArr = []\n",
    "    for i in range(len(listedSeries)):\n",
    "\n",
    "        # This looks at each index and if the string dose not contain the word POINT\n",
    "        if re.search(\"POINT\",listedSeries[i]) == None:\n",
    "\n",
    "            # This removes anything that isn't a number, comma, decimal, or negative\n",
    "            listedSeries[i] = re.sub('[^0-9\\-\\,\\.\\ ]', '', listedSeries[i])\n",
    "            \n",
    "            # This splits on a comma seperating the cordinate pairs into an array\n",
    "            tempPointArr = listedSeries[i].split(',')\n",
    "\n",
    "            # This splits on spaces serperating each x, y, z into its own array while removing blanks\n",
    "            # For each cordinate pair within the arr-\n",
    "            for i in range(len(tempPointArr)):\n",
    "                # Split on space removing blank\n",
    "                tempPointArr[i] = list(filter(None, tempPointArr[i].split(' ')))\n",
    "                # For each point within the arr\n",
    "                for k in range(len(tempPointArr[i])):\n",
    "                    # Cast as a float\n",
    "                    tempPointArr[i][k] = float(tempPointArr[i][k])\n",
    "\n",
    "            # Run the perimeter function and add perimiter to the array\n",
    "            perimiterArr.append(perim(tempPointArr))\n",
    "\n",
    "        # If the indexed entry in the dataframe is a point, then just add a 0.0 to the perimiterArr\n",
    "        else:\n",
    "            perimiterArr.append(0.0)\n",
    "\n",
    "    return perimiterArr"
   ]
  },
  {
   "cell_type": "code",
   "execution_count": 6,
   "id": "5caff230-e0e7-4508-8b85-b9283311b3c2",
   "metadata": {
    "jupyter": {
     "source_hidden": true
    },
    "tags": []
   },
   "outputs": [],
   "source": [
    "# This function cleans the \"Shape\", \"Number of Points\", \"Description\", and \"0\" into \"Perimete/Length (feet)\" columns:\n",
    "def NameCleanUp(df):\n",
    "    # Clean up the \"Description\" column:\n",
    "    df[\"Description\"] = df['Description'].replace(\"Dimension: <br>description:\", \"\")\n",
    "    # Split column \"Points\" into two columns: column \"Shape\" and column \"Number of Points\":\n",
    "    df[['Shape', 'Number of Points']] = df['Points'].str.split('(', 1, expand=True)\n",
    "    # Renaming the \"Shape\" column using the \"my_recode\" function:\n",
    "    df['Shape Type'] = df['Shape'].apply(my_recode)\n",
    "    # Rename \"0\" to \"Perimeter/Length (feet)\":\n",
    "    df = df.rename(columns={0: \"Perimeter/Length (feet)\"})\n",
    "    return df"
   ]
  },
  {
   "cell_type": "code",
   "execution_count": 7,
   "id": "8bfa721c-b757-4241-acc0-04479860ec3f",
   "metadata": {
    "jupyter": {
     "source_hidden": true
    },
    "tags": []
   },
   "outputs": [],
   "source": [
    "# This function ia for dropping unused columns\n",
    "def DropUnusedColumns(df):\n",
    "    # Drop the \"geometry\" and \"Shape\" columns\n",
    "    df.drop(\"geometry\", axis=1, inplace=True)\n",
    "    # Drop \"Shape\"\n",
    "    df.drop(\"Shape\", axis=1, inplace=True)\n",
    "    # Drop \"Points\"\n",
    "    # df.drop(\"Points\", axis=1, inplace=True)\n",
    "    return df"
   ]
  },
  {
   "cell_type": "code",
   "execution_count": 8,
   "id": "4e61c32f-6888-4c89-993e-e10366307364",
   "metadata": {
    "jupyter": {
     "source_hidden": true
    },
    "tags": []
   },
   "outputs": [],
   "source": [
    "# This function manipulates the \"Folder\" column:\n",
    "def PathFolderColumn(df):\n",
    "    # Create a \"Folder\" column that will hold the folder and file from the filepath:\n",
    "    df['Folder'] = ''\n",
    "    # PathArray from file (Global Variable):\n",
    "    pathArray = file.split(\"/\")\n",
    "    # Adding the file path parent folder and file name into the string \"ParentChildFolderPath\" variable:\n",
    "    ParentChildFolderPath = \"/\".join(pathArray[-2:])\n",
    "    # Modifying existing DF by assigning the \"Folder\" column to be: \"ParentChildFolderPath\":\n",
    "    df = df.assign(Folder = ParentChildFolderPath)\n",
    "    return df"
   ]
  },
  {
   "cell_type": "code",
   "execution_count": 9,
   "id": "318a4bee-5334-4dc9-aab9-2ecd83e71606",
   "metadata": {
    "jupyter": {
     "source_hidden": true
    },
    "tags": []
   },
   "outputs": [],
   "source": [
    "# This function is for cleaning, changing type, and math for the \"Acres\" column:\n",
    "def Acres(df):\n",
    "    # Rename the \"Description\" column to \"Area (Acres)\":\n",
    "    df.rename(columns = {'Description':'Area (Acres)'}, inplace = True)\n",
    "    # Clean up the \"Area\" column:\n",
    "    for i in range(len(df['Area (Acres)'])):\n",
    "        df['Area (Acres)'][i] = re.sub('^\\\\D+', '', df['Area (Acres)'][i])\n",
    "    # Use regex to drop the \"mi\" since we will be using acres:\n",
    "    df['Area (Acres)'] = df['Area (Acres)'].str.replace(' mi','')  \n",
    "    # Adding NULL values to the empty rows:\n",
    "    df['Area (Acres)'] = df['Area (Acres)'].replace('', np.nan, regex=True)\n",
    "    # Change the data type to float:\n",
    "    df['Area (Acres)'] = df['Area (Acres)'].astype(\"float64\")\n",
    "    # Changing the units from miles to acres:\n",
    "    df['Area (Acres)'] = df['Area (Acres)'].apply(lambda x : x * 640)\n",
    "    return df"
   ]
  },
  {
   "cell_type": "code",
   "execution_count": 10,
   "id": "9788a261-e1da-4837-b836-3abfc86baac7",
   "metadata": {
    "jupyter": {
     "source_hidden": true
    },
    "tags": []
   },
   "outputs": [],
   "source": [
    "# This function is for recoding the \"Shape Type\" column so that it is named relevantly:\n",
    "def my_recode(Shape):\n",
    "    if Shape == \"POLYGON Z \":\n",
    "        return \"Polygon\"\n",
    "    if Shape == \"LINESTRING Z \":\n",
    "        return \"Linestring\"\n",
    "    if Shape == \"POINT Z \":\n",
    "        return \"Point\"\n",
    "\n",
    "# df['Shape Type'] = df['Shape'].apply(my_recode)"
   ]
  },
  {
   "cell_type": "code",
   "execution_count": 11,
   "id": "fc72412e-b0e5-423e-8eae-d10735cd97da",
   "metadata": {
    "jupyter": {
     "source_hidden": true
    },
    "tags": []
   },
   "outputs": [],
   "source": [
    "# This function is for exporting:\n",
    "def SaveAsCSV(df):\n",
    "    df.to_csv(file[:-3]+\"csv\")"
   ]
  },
  {
   "cell_type": "markdown",
   "id": "b25d2b60-22a6-4321-9c2a-70b980a0e1a2",
   "metadata": {},
   "source": [
    "## Main"
   ]
  },
  {
   "cell_type": "code",
   "execution_count": 12,
   "id": "ec6a3c82-71f2-44c2-a6c4-146d3a736d2b",
   "metadata": {
    "tags": []
   },
   "outputs": [
    {
     "name": "stdout",
     "output_type": "stream",
     "text": [
      "File Uploaded: C:/Users/JXL0ROY/OneDrive - NEE/Documents/Python_Scripts/TimsProblem/KML_CSV/GIS Interview Exercise1.kmz\n"
     ]
    }
   ],
   "source": [
    "# Run the function to import file and turn into dataframe and returns the dataframe and the filepath-\n",
    "df, file = importKML()\n",
    "\n",
    "# Creates a new column named \"Points\" that is the \"geometry\" column as a string type\n",
    "df['Points'] = df['geometry'].astype(str)\n",
    "\n",
    "# Run the following functions:\n",
    "\n",
    "# This function cleans the \"Shape\", \"Number of Points\", \"Description\", and \"0\" into \"Perimete/Length (feet)\" columns:\n",
    "df = NameCleanUp(df)\n",
    "# This function ia for dropping unused columns\n",
    "df = DropUnusedColumns(df)\n",
    "# This function manipulates the \"Folder\" column:\n",
    "df = PathFolderColumn(df)\n",
    "# This function is for cleaning, changing type, and math for the \"Acres\" column:\n",
    "df = Acres(df)"
   ]
  },
  {
   "cell_type": "code",
   "execution_count": 13,
   "id": "257ca1e6-0900-4e3f-a63a-ed5071034e33",
   "metadata": {
    "collapsed": true,
    "jupyter": {
     "outputs_hidden": true
    },
    "tags": []
   },
   "outputs": [
    {
     "name": "stderr",
     "output_type": "stream",
     "text": [
      "C:\\Users\\JXL0ROY\\AppData\\Local\\Temp\\ipykernel_12836\\2955238131.py:3: SettingWithCopyWarning: \n",
      "A value is trying to be set on a copy of a slice from a DataFrame\n",
      "\n",
      "See the caveats in the documentation: https://pandas.pydata.org/pandas-docs/stable/user_guide/indexing.html#returning-a-view-versus-a-copy\n",
      "  df[\"Number of Points\"][i] = len(df[\"Number of Points\"][i].split(' '))\n"
     ]
    }
   ],
   "source": [
    "# Make a new column that will contain only the \"Number of Points\".\n",
    "for i in range(len(df[\"Number of Points\"])):\n",
    "    df[\"Number of Points\"][i] = len(df[\"Number of Points\"][i].split(' '))"
   ]
  },
  {
   "cell_type": "code",
   "execution_count": 14,
   "id": "d73f873b-2605-4203-b9fb-09ffbebbb521",
   "metadata": {
    "tags": []
   },
   "outputs": [],
   "source": [
    "df1 = pd.DataFrame(perimeterColumnGenerator(df[\"Points\"]))"
   ]
  },
  {
   "cell_type": "code",
   "execution_count": 15,
   "id": "04067cd0-e64e-4177-a7be-9f728f41baa5",
   "metadata": {},
   "outputs": [],
   "source": [
    "# Combine the dfs together\n",
    "df = pd.concat([df1, df], axis=1)"
   ]
  },
  {
   "cell_type": "code",
   "execution_count": 16,
   "id": "41c6ba6b-f2d7-4908-9dcf-40787dc6175a",
   "metadata": {},
   "outputs": [],
   "source": [
    "# Rename the \"0\" column to \"Perimeter/Length (feet)\"\n",
    "df = df.rename(columns={0: \"Perimeter/Length (feet)\"})"
   ]
  },
  {
   "cell_type": "code",
   "execution_count": 17,
   "id": "f2336d47-4512-4119-a247-a26bbcd0c56f",
   "metadata": {
    "tags": []
   },
   "outputs": [],
   "source": [
    "# Reorder the columns:\n",
    "df = df.loc[:,['Folder', 'Name', 'Shape Type', 'Number of Points', 'Area (Acres)', 'Perimeter/Length (feet)']]"
   ]
  },
  {
   "cell_type": "code",
   "execution_count": 18,
   "id": "db53a14a-a829-40f4-b22d-d51455432e1d",
   "metadata": {},
   "outputs": [],
   "source": [
    "# Save the CSV to the parent folder\n",
    "SaveAsCSV(df)"
   ]
  },
  {
   "cell_type": "code",
   "execution_count": 19,
   "id": "14056d0b-6335-4270-9dcb-7a31b0fadb6e",
   "metadata": {
    "collapsed": true,
    "jupyter": {
     "outputs_hidden": true
    },
    "tags": []
   },
   "outputs": [
    {
     "data": {
      "text/html": [
       "<div>\n",
       "<style scoped>\n",
       "    .dataframe tbody tr th:only-of-type {\n",
       "        vertical-align: middle;\n",
       "    }\n",
       "\n",
       "    .dataframe tbody tr th {\n",
       "        vertical-align: top;\n",
       "    }\n",
       "\n",
       "    .dataframe thead th {\n",
       "        text-align: right;\n",
       "    }\n",
       "</style>\n",
       "<table border=\"1\" class=\"dataframe\">\n",
       "  <thead>\n",
       "    <tr style=\"text-align: right;\">\n",
       "      <th></th>\n",
       "      <th>Folder</th>\n",
       "      <th>Name</th>\n",
       "      <th>Shape Type</th>\n",
       "      <th>Number of Points</th>\n",
       "      <th>Area (Acres)</th>\n",
       "      <th>Perimeter/Length (feet)</th>\n",
       "    </tr>\n",
       "  </thead>\n",
       "  <tbody>\n",
       "    <tr>\n",
       "      <th>0</th>\n",
       "      <td>KML_CSV/GIS Interview Exercise1.kmz</td>\n",
       "      <td>Untitled Polygon</td>\n",
       "      <td>Polygon</td>\n",
       "      <td>15</td>\n",
       "      <td>NaN</td>\n",
       "      <td>2.961165e+06</td>\n",
       "    </tr>\n",
       "  </tbody>\n",
       "</table>\n",
       "</div>"
      ],
      "text/plain": [
       "                                Folder              Name Shape Type  \\\n",
       "0  KML_CSV/GIS Interview Exercise1.kmz  Untitled Polygon    Polygon   \n",
       "\n",
       "  Number of Points  Area (Acres)  Perimeter/Length (feet)  \n",
       "0               15           NaN             2.961165e+06  "
      ]
     },
     "execution_count": 19,
     "metadata": {},
     "output_type": "execute_result"
    }
   ],
   "source": [
    "# View the df head to double\n",
    "df.head()"
   ]
  }
 ],
 "metadata": {
  "kernelspec": {
   "display_name": "Python 3 (ipykernel)",
   "language": "python",
   "name": "python3"
  },
  "language_info": {
   "codemirror_mode": {
    "name": "ipython",
    "version": 3
   },
   "file_extension": ".py",
   "mimetype": "text/x-python",
   "name": "python",
   "nbconvert_exporter": "python",
   "pygments_lexer": "ipython3",
   "version": "3.10.7"
  }
 },
 "nbformat": 4,
 "nbformat_minor": 5
}
