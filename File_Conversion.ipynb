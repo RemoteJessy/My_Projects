{
 "cells": [
  {
   "cell_type": "code",
   "execution_count": 1,
   "id": "6e099187-dbbd-4bcf-a33f-48dbb1905c3b",
   "metadata": {},
   "outputs": [
    {
     "ename": "IndentationError",
     "evalue": "expected an indented block after function definition on line 4 (735506428.py, line 5)",
     "output_type": "error",
     "traceback": [
      "\u001b[1;36m  Input \u001b[1;32mIn [1]\u001b[1;36m\u001b[0m\n\u001b[1;33m    \"\"\"\u001b[0m\n\u001b[1;37m    ^\u001b[0m\n\u001b[1;31mIndentationError\u001b[0m\u001b[1;31m:\u001b[0m expected an indented block after function definition on line 4\n"
     ]
    }
   ],
   "source": [
    "from bs4 import BeautifulSoup\n",
    "import csv\n",
    "\n",
    "def process_coordinate_string(str):\n",
    "\"\"\"\n",
    "Take the coordinate string from the KML file, and break it up into [Lat,Lon,Lat,Lon...] for a CSV row\n",
    "\"\"\"\n",
    "ret = []\n",
    "comma_split = str.split(',')\n",
    "return [comma_split[1], comma_split[0]]\n",
    "\n",
    "def main():\n",
    "\"\"\"\n",
    "Open the KML. Read the KML. Open a CSV file. Process a coordinate string to be a CSV row.\n",
    "\"\"\"\n",
    "with open('inputfile.kml', 'r') as f:\n",
    "s = BeautifulSoup(f, 'xml')\n",
    "with open('out.csv', 'w', newline='') as csvfile:\n",
    "writer = csv.writer(csvfile)\n",
    "for coords in s.find_all('coordinates'):\n",
    "writer.writerow(process_coordinate_string(coords.string))\n",
    "\n",
    "if name == \"main\":\n",
    "main()"
   ]
  },
  {
   "cell_type": "code",
   "execution_count": null,
   "id": "c1d7b94c-8c6d-4448-aec5-325f198a8dc0",
   "metadata": {},
   "outputs": [],
   "source": []
  }
 ],
 "metadata": {
  "kernelspec": {
   "display_name": "Python 3 (ipykernel)",
   "language": "python",
   "name": "python3"
  },
  "language_info": {
   "codemirror_mode": {
    "name": "ipython",
    "version": 3
   },
   "file_extension": ".py",
   "mimetype": "text/x-python",
   "name": "python",
   "nbconvert_exporter": "python",
   "pygments_lexer": "ipython3",
   "version": "3.10.7"
  }
 },
 "nbformat": 4,
 "nbformat_minor": 5
}
