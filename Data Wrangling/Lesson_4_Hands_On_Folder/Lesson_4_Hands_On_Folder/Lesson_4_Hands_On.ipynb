{
 "cells": [
  {
   "cell_type": "code",
   "execution_count": 1,
   "id": "29c181a9",
   "metadata": {},
   "outputs": [],
   "source": [
    "##### part 1 #####"
   ]
  },
  {
   "cell_type": "code",
   "execution_count": 2,
   "id": "4e68f68f",
   "metadata": {},
   "outputs": [],
   "source": [
    "## IMPORTING PANDAS"
   ]
  },
  {
   "cell_type": "code",
   "execution_count": 3,
   "id": "b59d92d5",
   "metadata": {},
   "outputs": [],
   "source": [
    "import pandas as pd"
   ]
  },
  {
   "cell_type": "code",
   "execution_count": 4,
   "id": "0bfb66e2",
   "metadata": {},
   "outputs": [],
   "source": [
    "## IMPORTING THE POWER BOAT DATASET"
   ]
  },
  {
   "cell_type": "code",
   "execution_count": 5,
   "id": "455f4e92",
   "metadata": {},
   "outputs": [],
   "source": [
    "L3P1 = pd.read_csv('L3P1.csv')"
   ]
  },
  {
   "cell_type": "code",
   "execution_count": 6,
   "id": "1197755e",
   "metadata": {},
   "outputs": [],
   "source": [
    "## CALLING THE DATASET"
   ]
  },
  {
   "cell_type": "code",
   "execution_count": 7,
   "id": "b317602a",
   "metadata": {},
   "outputs": [
    {
     "data": {
      "text/html": [
       "<div>\n",
       "<style scoped>\n",
       "    .dataframe tbody tr th:only-of-type {\n",
       "        vertical-align: middle;\n",
       "    }\n",
       "\n",
       "    .dataframe tbody tr th {\n",
       "        vertical-align: top;\n",
       "    }\n",
       "\n",
       "    .dataframe thead th {\n",
       "        text-align: right;\n",
       "    }\n",
       "</style>\n",
       "<table border=\"1\" class=\"dataframe\">\n",
       "  <thead>\n",
       "    <tr style=\"text-align: right;\">\n",
       "      <th></th>\n",
       "      <th>Power Boats (in 1000's)</th>\n",
       "    </tr>\n",
       "  </thead>\n",
       "  <tbody>\n",
       "    <tr>\n",
       "      <th>0</th>\n",
       "      <td>436</td>\n",
       "    </tr>\n",
       "    <tr>\n",
       "      <th>1</th>\n",
       "      <td>449</td>\n",
       "    </tr>\n",
       "    <tr>\n",
       "      <th>2</th>\n",
       "      <td>470</td>\n",
       "    </tr>\n",
       "    <tr>\n",
       "      <th>3</th>\n",
       "      <td>487</td>\n",
       "    </tr>\n",
       "    <tr>\n",
       "      <th>4</th>\n",
       "      <td>502</td>\n",
       "    </tr>\n",
       "    <tr>\n",
       "      <th>5</th>\n",
       "      <td>501</td>\n",
       "    </tr>\n",
       "    <tr>\n",
       "      <th>6</th>\n",
       "      <td>515</td>\n",
       "    </tr>\n",
       "    <tr>\n",
       "      <th>7</th>\n",
       "      <td>548</td>\n",
       "    </tr>\n",
       "    <tr>\n",
       "      <th>8</th>\n",
       "      <td>575</td>\n",
       "    </tr>\n",
       "    <tr>\n",
       "      <th>9</th>\n",
       "      <td>604</td>\n",
       "    </tr>\n",
       "    <tr>\n",
       "      <th>10</th>\n",
       "      <td>635</td>\n",
       "    </tr>\n",
       "    <tr>\n",
       "      <th>11</th>\n",
       "      <td>665</td>\n",
       "    </tr>\n",
       "    <tr>\n",
       "      <th>12</th>\n",
       "      <td>701</td>\n",
       "    </tr>\n",
       "    <tr>\n",
       "      <th>13</th>\n",
       "      <td>709</td>\n",
       "    </tr>\n",
       "    <tr>\n",
       "      <th>14</th>\n",
       "      <td>671</td>\n",
       "    </tr>\n",
       "    <tr>\n",
       "      <th>15</th>\n",
       "      <td>669</td>\n",
       "    </tr>\n",
       "    <tr>\n",
       "      <th>16</th>\n",
       "      <td>668</td>\n",
       "    </tr>\n",
       "    <tr>\n",
       "      <th>17</th>\n",
       "      <td>686</td>\n",
       "    </tr>\n",
       "    <tr>\n",
       "      <th>18</th>\n",
       "      <td>703</td>\n",
       "    </tr>\n",
       "    <tr>\n",
       "      <th>19</th>\n",
       "      <td>722</td>\n",
       "    </tr>\n",
       "    <tr>\n",
       "      <th>20</th>\n",
       "      <td>745</td>\n",
       "    </tr>\n",
       "    <tr>\n",
       "      <th>21</th>\n",
       "      <td>799</td>\n",
       "    </tr>\n",
       "    <tr>\n",
       "      <th>22</th>\n",
       "      <td>820</td>\n",
       "    </tr>\n",
       "    <tr>\n",
       "      <th>23</th>\n",
       "      <td>869</td>\n",
       "    </tr>\n",
       "    <tr>\n",
       "      <th>24</th>\n",
       "      <td>932</td>\n",
       "    </tr>\n",
       "    <tr>\n",
       "      <th>25</th>\n",
       "      <td>952</td>\n",
       "    </tr>\n",
       "    <tr>\n",
       "      <th>26</th>\n",
       "      <td>969</td>\n",
       "    </tr>\n",
       "    <tr>\n",
       "      <th>27</th>\n",
       "      <td>974</td>\n",
       "    </tr>\n",
       "    <tr>\n",
       "      <th>28</th>\n",
       "      <td>1001</td>\n",
       "    </tr>\n",
       "    <tr>\n",
       "      <th>29</th>\n",
       "      <td>1015</td>\n",
       "    </tr>\n",
       "    <tr>\n",
       "      <th>30</th>\n",
       "      <td>1018</td>\n",
       "    </tr>\n",
       "    <tr>\n",
       "      <th>31</th>\n",
       "      <td>1001</td>\n",
       "    </tr>\n",
       "    <tr>\n",
       "      <th>32</th>\n",
       "      <td>975</td>\n",
       "    </tr>\n",
       "    <tr>\n",
       "      <th>33</th>\n",
       "      <td>935</td>\n",
       "    </tr>\n",
       "    <tr>\n",
       "      <th>34</th>\n",
       "      <td>916</td>\n",
       "    </tr>\n",
       "  </tbody>\n",
       "</table>\n",
       "</div>"
      ],
      "text/plain": [
       "    Power Boats (in 1000's)\n",
       "0                       436\n",
       "1                       449\n",
       "2                       470\n",
       "3                       487\n",
       "4                       502\n",
       "5                       501\n",
       "6                       515\n",
       "7                       548\n",
       "8                       575\n",
       "9                       604\n",
       "10                      635\n",
       "11                      665\n",
       "12                      701\n",
       "13                      709\n",
       "14                      671\n",
       "15                      669\n",
       "16                      668\n",
       "17                      686\n",
       "18                      703\n",
       "19                      722\n",
       "20                      745\n",
       "21                      799\n",
       "22                      820\n",
       "23                      869\n",
       "24                      932\n",
       "25                      952\n",
       "26                      969\n",
       "27                      974\n",
       "28                     1001\n",
       "29                     1015\n",
       "30                     1018\n",
       "31                     1001\n",
       "32                      975\n",
       "33                      935\n",
       "34                      916"
      ]
     },
     "execution_count": 7,
     "metadata": {},
     "output_type": "execute_result"
    }
   ],
   "source": [
    "L3P1"
   ]
  },
  {
   "cell_type": "code",
   "execution_count": 8,
   "id": "25473f00",
   "metadata": {},
   "outputs": [],
   "source": [
    "## MAKING HISTOGRAM WITH PANDAS"
   ]
  },
  {
   "cell_type": "code",
   "execution_count": 9,
   "id": "8f2f5ece",
   "metadata": {},
   "outputs": [
    {
     "data": {
      "text/plain": [
       "array([[<AxesSubplot:title={'center':\"Power Boats (in 1000's)\"}>]],\n",
       "      dtype=object)"
      ]
     },
     "execution_count": 9,
     "metadata": {},
     "output_type": "execute_result"
    },
    {
     "data": {
      "image/png": "[encoded data removed]",
      "text/plain": [
       "<Figure size 432x288 with 1 Axes>"
      ]
     },
     "metadata": {
      "needs_background": "light"
     },
     "output_type": "display_data"
    }
   ],
   "source": [
    "L3P1.hist()"
   ]
  },
  {
   "cell_type": "code",
   "execution_count": 10,
   "id": "9574ab83",
   "metadata": {},
   "outputs": [],
   "source": [
    "##### PART 5 #####"
   ]
  },
  {
   "cell_type": "code",
   "execution_count": 11,
   "id": "217414f7",
   "metadata": {},
   "outputs": [],
   "source": [
    "# import dataset heart attack"
   ]
  },
  {
   "cell_type": "code",
   "execution_count": 12,
   "id": "cd6b14bf",
   "metadata": {},
   "outputs": [],
   "source": [
    "HeartAttack = pd.read_csv('heartAttackTracking.csv')"
   ]
  },
  {
   "cell_type": "code",
   "execution_count": 14,
   "id": "c70f3199",
   "metadata": {},
   "outputs": [],
   "source": [
    "import pandas as pd"
   ]
  },
  {
   "cell_type": "code",
   "execution_count": 15,
   "id": "30c6bcf6",
   "metadata": {},
   "outputs": [],
   "source": [
    "# view dataset"
   ]
  },
  {
   "cell_type": "code",
   "execution_count": 16,
   "id": "0fef499a",
   "metadata": {},
   "outputs": [
    {
     "data": {
      "text/html": [
       "<div>\n",
       "<style scoped>\n",
       "    .dataframe tbody tr th:only-of-type {\n",
       "        vertical-align: middle;\n",
       "    }\n",
       "\n",
       "    .dataframe tbody tr th {\n",
       "        vertical-align: top;\n",
       "    }\n",
       "\n",
       "    .dataframe thead th {\n",
       "        text-align: right;\n",
       "    }\n",
       "</style>\n",
       "<table border=\"1\" class=\"dataframe\">\n",
       "  <thead>\n",
       "    <tr style=\"text-align: right;\">\n",
       "      <th></th>\n",
       "      <th>Month</th>\n",
       "      <th>Day</th>\n",
       "      <th>Year</th>\n",
       "      <th>Heart Attacks</th>\n",
       "    </tr>\n",
       "  </thead>\n",
       "  <tbody>\n",
       "    <tr>\n",
       "      <th>0</th>\n",
       "      <td>May</td>\n",
       "      <td>1,</td>\n",
       "      <td>2003</td>\n",
       "      <td>12</td>\n",
       "    </tr>\n",
       "    <tr>\n",
       "      <th>1</th>\n",
       "      <td>May</td>\n",
       "      <td>2,</td>\n",
       "      <td>2003</td>\n",
       "      <td>12</td>\n",
       "    </tr>\n",
       "    <tr>\n",
       "      <th>2</th>\n",
       "      <td>May</td>\n",
       "      <td>3,</td>\n",
       "      <td>2003</td>\n",
       "      <td>6</td>\n",
       "    </tr>\n",
       "    <tr>\n",
       "      <th>3</th>\n",
       "      <td>May</td>\n",
       "      <td>4,</td>\n",
       "      <td>2003</td>\n",
       "      <td>16</td>\n",
       "    </tr>\n",
       "    <tr>\n",
       "      <th>4</th>\n",
       "      <td>May</td>\n",
       "      <td>5,</td>\n",
       "      <td>2003</td>\n",
       "      <td>13</td>\n",
       "    </tr>\n",
       "    <tr>\n",
       "      <th>...</th>\n",
       "      <td>...</td>\n",
       "      <td>...</td>\n",
       "      <td>...</td>\n",
       "      <td>...</td>\n",
       "    </tr>\n",
       "    <tr>\n",
       "      <th>86</th>\n",
       "      <td>July</td>\n",
       "      <td>26,</td>\n",
       "      <td>2003</td>\n",
       "      <td>17</td>\n",
       "    </tr>\n",
       "    <tr>\n",
       "      <th>87</th>\n",
       "      <td>July</td>\n",
       "      <td>27,</td>\n",
       "      <td>2003</td>\n",
       "      <td>19</td>\n",
       "    </tr>\n",
       "    <tr>\n",
       "      <th>88</th>\n",
       "      <td>July</td>\n",
       "      <td>28,</td>\n",
       "      <td>2003</td>\n",
       "      <td>27</td>\n",
       "    </tr>\n",
       "    <tr>\n",
       "      <th>89</th>\n",
       "      <td>July</td>\n",
       "      <td>29,</td>\n",
       "      <td>2003</td>\n",
       "      <td>11</td>\n",
       "    </tr>\n",
       "    <tr>\n",
       "      <th>90</th>\n",
       "      <td>July</td>\n",
       "      <td>30,</td>\n",
       "      <td>2003</td>\n",
       "      <td>18</td>\n",
       "    </tr>\n",
       "  </tbody>\n",
       "</table>\n",
       "<p>91 rows × 4 columns</p>\n",
       "</div>"
      ],
      "text/plain": [
       "   Month  Day  Year  Heart Attacks\n",
       "0    May   1,  2003             12\n",
       "1    May   2,  2003             12\n",
       "2    May   3,  2003              6\n",
       "3    May   4,  2003             16\n",
       "4    May   5,  2003             13\n",
       "..   ...  ...   ...            ...\n",
       "86  July  26,  2003             17\n",
       "87  July  27,  2003             19\n",
       "88  July  28,  2003             27\n",
       "89  July  29,  2003             11\n",
       "90  July  30,  2003             18\n",
       "\n",
       "[91 rows x 4 columns]"
      ]
     },
     "execution_count": 16,
     "metadata": {},
     "output_type": "execute_result"
    }
   ],
   "source": [
    "HeartAttack"
   ]
  },
  {
   "cell_type": "code",
   "execution_count": 17,
   "id": "730bbaa5",
   "metadata": {},
   "outputs": [],
   "source": [
    "# make line chart"
   ]
  },
  {
   "cell_type": "code",
   "execution_count": 18,
   "id": "3f3f055e",
   "metadata": {},
   "outputs": [],
   "source": [
    "HeartAttack['Date']=HeartAttack['Month'] + \" \" + HeartAttack['Day'] + \" \" + HeartAttack['Year'].map(str)"
   ]
  },
  {
   "cell_type": "code",
   "execution_count": 19,
   "id": "a4a0b54d",
   "metadata": {},
   "outputs": [
    {
     "data": {
      "text/html": [
       "<div>\n",
       "<style scoped>\n",
       "    .dataframe tbody tr th:only-of-type {\n",
       "        vertical-align: middle;\n",
       "    }\n",
       "\n",
       "    .dataframe tbody tr th {\n",
       "        vertical-align: top;\n",
       "    }\n",
       "\n",
       "    .dataframe thead th {\n",
       "        text-align: right;\n",
       "    }\n",
       "</style>\n",
       "<table border=\"1\" class=\"dataframe\">\n",
       "  <thead>\n",
       "    <tr style=\"text-align: right;\">\n",
       "      <th></th>\n",
       "      <th>Month</th>\n",
       "      <th>Day</th>\n",
       "      <th>Year</th>\n",
       "      <th>Heart Attacks</th>\n",
       "      <th>Date</th>\n",
       "    </tr>\n",
       "  </thead>\n",
       "  <tbody>\n",
       "    <tr>\n",
       "      <th>0</th>\n",
       "      <td>May</td>\n",
       "      <td>1,</td>\n",
       "      <td>2003</td>\n",
       "      <td>12</td>\n",
       "      <td>May 1, 2003</td>\n",
       "    </tr>\n",
       "    <tr>\n",
       "      <th>1</th>\n",
       "      <td>May</td>\n",
       "      <td>2,</td>\n",
       "      <td>2003</td>\n",
       "      <td>12</td>\n",
       "      <td>May 2, 2003</td>\n",
       "    </tr>\n",
       "    <tr>\n",
       "      <th>2</th>\n",
       "      <td>May</td>\n",
       "      <td>3,</td>\n",
       "      <td>2003</td>\n",
       "      <td>6</td>\n",
       "      <td>May 3, 2003</td>\n",
       "    </tr>\n",
       "    <tr>\n",
       "      <th>3</th>\n",
       "      <td>May</td>\n",
       "      <td>4,</td>\n",
       "      <td>2003</td>\n",
       "      <td>16</td>\n",
       "      <td>May 4, 2003</td>\n",
       "    </tr>\n",
       "    <tr>\n",
       "      <th>4</th>\n",
       "      <td>May</td>\n",
       "      <td>5,</td>\n",
       "      <td>2003</td>\n",
       "      <td>13</td>\n",
       "      <td>May 5, 2003</td>\n",
       "    </tr>\n",
       "    <tr>\n",
       "      <th>...</th>\n",
       "      <td>...</td>\n",
       "      <td>...</td>\n",
       "      <td>...</td>\n",
       "      <td>...</td>\n",
       "      <td>...</td>\n",
       "    </tr>\n",
       "    <tr>\n",
       "      <th>86</th>\n",
       "      <td>July</td>\n",
       "      <td>26,</td>\n",
       "      <td>2003</td>\n",
       "      <td>17</td>\n",
       "      <td>July 26, 2003</td>\n",
       "    </tr>\n",
       "    <tr>\n",
       "      <th>87</th>\n",
       "      <td>July</td>\n",
       "      <td>27,</td>\n",
       "      <td>2003</td>\n",
       "      <td>19</td>\n",
       "      <td>July 27, 2003</td>\n",
       "    </tr>\n",
       "    <tr>\n",
       "      <th>88</th>\n",
       "      <td>July</td>\n",
       "      <td>28,</td>\n",
       "      <td>2003</td>\n",
       "      <td>27</td>\n",
       "      <td>July 28, 2003</td>\n",
       "    </tr>\n",
       "    <tr>\n",
       "      <th>89</th>\n",
       "      <td>July</td>\n",
       "      <td>29,</td>\n",
       "      <td>2003</td>\n",
       "      <td>11</td>\n",
       "      <td>July 29, 2003</td>\n",
       "    </tr>\n",
       "    <tr>\n",
       "      <th>90</th>\n",
       "      <td>July</td>\n",
       "      <td>30,</td>\n",
       "      <td>2003</td>\n",
       "      <td>18</td>\n",
       "      <td>July 30, 2003</td>\n",
       "    </tr>\n",
       "  </tbody>\n",
       "</table>\n",
       "<p>91 rows × 5 columns</p>\n",
       "</div>"
      ],
      "text/plain": [
       "   Month  Day  Year  Heart Attacks           Date\n",
       "0    May   1,  2003             12    May 1, 2003\n",
       "1    May   2,  2003             12    May 2, 2003\n",
       "2    May   3,  2003              6    May 3, 2003\n",
       "3    May   4,  2003             16    May 4, 2003\n",
       "4    May   5,  2003             13    May 5, 2003\n",
       "..   ...  ...   ...            ...            ...\n",
       "86  July  26,  2003             17  July 26, 2003\n",
       "87  July  27,  2003             19  July 27, 2003\n",
       "88  July  28,  2003             27  July 28, 2003\n",
       "89  July  29,  2003             11  July 29, 2003\n",
       "90  July  30,  2003             18  July 30, 2003\n",
       "\n",
       "[91 rows x 5 columns]"
      ]
     },
     "execution_count": 19,
     "metadata": {},
     "output_type": "execute_result"
    }
   ],
   "source": [
    "HeartAttack"
   ]
  },
  {
   "cell_type": "code",
   "execution_count": 20,
   "id": "90289ed9",
   "metadata": {},
   "outputs": [],
   "source": [
    "# import matplotlib mlab (as mlab) and pyplot (as plt)"
   ]
  },
  {
   "cell_type": "code",
   "execution_count": 21,
   "id": "3b105170",
   "metadata": {},
   "outputs": [],
   "source": [
    "import matplotlib.mlab as mlab\n",
    "import matplotlib.pyplot as plt"
   ]
  },
  {
   "cell_type": "code",
   "execution_count": 22,
   "id": "85ab1aa8",
   "metadata": {},
   "outputs": [],
   "source": [
    "# create the line chart"
   ]
  },
  {
   "cell_type": "code",
   "execution_count": 23,
   "id": "3ccb034a",
   "metadata": {},
   "outputs": [
    {
     "data": {
      "text/plain": [
       "Text(0.5, 1.0, 'Heart Attacks Treatment Number by Date')"
      ]
     },
     "execution_count": 23,
     "metadata": {},
     "output_type": "execute_result"
    },
    {
     "data": {
      "image/png": "[encoded data removed]",
      "text/plain": [
       "<Figure size 432x288 with 1 Axes>"
      ]
     },
     "metadata": {
      "needs_background": "light"
     },
     "output_type": "display_data"
    }
   ],
   "source": [
    "plt.plot(HeartAttack['Date'],HeartAttack['Heart Attacks'])\n",
    "plt.xlabel(\"Date\")\n",
    "plt.ylabel(\"Number of Heart Attacks\")\n",
    "plt.title(\"Heart Attacks Treatment Number by Date\")"
   ]
  },
  {
   "cell_type": "code",
   "execution_count": 24,
   "id": "887b5b24",
   "metadata": {},
   "outputs": [],
   "source": [
    "##### My take on the line graph and the information provided is that as time progressed, \n",
    "##### heart attacks went up, and therefore treatment also went up."
   ]
  },
  {
   "cell_type": "code",
   "execution_count": 25,
   "id": "dddf990e",
   "metadata": {},
   "outputs": [],
   "source": [
    "##### PART 2 #####"
   ]
  },
  {
   "cell_type": "code",
   "execution_count": null,
   "id": "33adbf29",
   "metadata": {},
   "outputs": [],
   "source": [
    "# import data"
   ]
  },
  {
   "cell_type": "code",
   "execution_count": 26,
   "id": "d7f40472",
   "metadata": {},
   "outputs": [],
   "source": [
    "Cars = pd.read_csv(\"L3P2.csv\")"
   ]
  },
  {
   "cell_type": "code",
   "execution_count": null,
   "id": "2928c3a7",
   "metadata": {},
   "outputs": [],
   "source": [
    "# view data"
   ]
  },
  {
   "cell_type": "code",
   "execution_count": 27,
   "id": "be7639fd",
   "metadata": {},
   "outputs": [
    {
     "data": {
      "text/html": [
       "<div>\n",
       "<style scoped>\n",
       "    .dataframe tbody tr th:only-of-type {\n",
       "        vertical-align: middle;\n",
       "    }\n",
       "\n",
       "    .dataframe tbody tr th {\n",
       "        vertical-align: top;\n",
       "    }\n",
       "\n",
       "    .dataframe thead th {\n",
       "        text-align: right;\n",
       "    }\n",
       "</style>\n",
       "<table border=\"1\" class=\"dataframe\">\n",
       "  <thead>\n",
       "    <tr style=\"text-align: right;\">\n",
       "      <th></th>\n",
       "      <th>Cars</th>\n",
       "    </tr>\n",
       "  </thead>\n",
       "  <tbody>\n",
       "    <tr>\n",
       "      <th>0</th>\n",
       "      <td>Mitsubishi</td>\n",
       "    </tr>\n",
       "    <tr>\n",
       "      <th>1</th>\n",
       "      <td>Mitsubishi</td>\n",
       "    </tr>\n",
       "    <tr>\n",
       "      <th>2</th>\n",
       "      <td>Dodge</td>\n",
       "    </tr>\n",
       "    <tr>\n",
       "      <th>3</th>\n",
       "      <td>Mitsubishi</td>\n",
       "    </tr>\n",
       "    <tr>\n",
       "      <th>4</th>\n",
       "      <td>Dodge</td>\n",
       "    </tr>\n",
       "    <tr>\n",
       "      <th>...</th>\n",
       "      <td>...</td>\n",
       "    </tr>\n",
       "    <tr>\n",
       "      <th>81</th>\n",
       "      <td>Jaguar</td>\n",
       "    </tr>\n",
       "    <tr>\n",
       "      <th>82</th>\n",
       "      <td>Jaguar</td>\n",
       "    </tr>\n",
       "    <tr>\n",
       "      <th>83</th>\n",
       "      <td>Jaguar</td>\n",
       "    </tr>\n",
       "    <tr>\n",
       "      <th>84</th>\n",
       "      <td>Mitsubishi</td>\n",
       "    </tr>\n",
       "    <tr>\n",
       "      <th>85</th>\n",
       "      <td>Jaguar</td>\n",
       "    </tr>\n",
       "  </tbody>\n",
       "</table>\n",
       "<p>86 rows × 1 columns</p>\n",
       "</div>"
      ],
      "text/plain": [
       "          Cars\n",
       "0   Mitsubishi\n",
       "1   Mitsubishi\n",
       "2        Dodge\n",
       "3   Mitsubishi\n",
       "4        Dodge\n",
       "..         ...\n",
       "81      Jaguar\n",
       "82      Jaguar\n",
       "83      Jaguar\n",
       "84  Mitsubishi\n",
       "85      Jaguar\n",
       "\n",
       "[86 rows x 1 columns]"
      ]
     },
     "execution_count": 27,
     "metadata": {},
     "output_type": "execute_result"
    }
   ],
   "source": [
    "Cars"
   ]
  },
  {
   "cell_type": "code",
   "execution_count": null,
   "id": "f686abde",
   "metadata": {},
   "outputs": [],
   "source": [
    "# create bar graph"
   ]
  },
  {
   "cell_type": "code",
   "execution_count": 28,
   "id": "c8e96215",
   "metadata": {},
   "outputs": [
    {
     "data": {
      "text/plain": [
       "Text(0.5, 0, 'Car Brands')"
      ]
     },
     "execution_count": 28,
     "metadata": {},
     "output_type": "execute_result"
    },
    {
     "data": {
      "image/png": "[encoded data removed]",
      "text/plain": [
       "<Figure size 432x288 with 1 Axes>"
      ]
     },
     "metadata": {
      "needs_background": "light"
     },
     "output_type": "display_data"
    }
   ],
   "source": [
    "CarMakes = Cars['Cars'].value_counts().plot(kind='bar')\n",
    "CarMakes.set_title(\"Car Brand Frequency\")\n",
    "CarMakes.set_xlabel(\"Car Brands\")"
   ]
  },
  {
   "cell_type": "code",
   "execution_count": 29,
   "id": "23eb99a3",
   "metadata": {},
   "outputs": [],
   "source": [
    "##### PART 4 #####"
   ]
  },
  {
   "cell_type": "code",
   "execution_count": null,
   "id": "7efe8ad2",
   "metadata": {},
   "outputs": [],
   "source": [
    "# import data"
   ]
  },
  {
   "cell_type": "code",
   "execution_count": 30,
   "id": "707bb5f3",
   "metadata": {},
   "outputs": [],
   "source": [
    "Crocodiles = pd.read_csv(\"crocodiles.csv\")"
   ]
  },
  {
   "cell_type": "code",
   "execution_count": null,
   "id": "c4554578",
   "metadata": {},
   "outputs": [],
   "source": [
    "# view data"
   ]
  },
  {
   "cell_type": "code",
   "execution_count": 31,
   "id": "8cff6f3f",
   "metadata": {},
   "outputs": [
    {
     "data": {
      "text/html": [
       "<div>\n",
       "<style scoped>\n",
       "    .dataframe tbody tr th:only-of-type {\n",
       "        vertical-align: middle;\n",
       "    }\n",
       "\n",
       "    .dataframe tbody tr th {\n",
       "        vertical-align: top;\n",
       "    }\n",
       "\n",
       "    .dataframe thead th {\n",
       "        text-align: right;\n",
       "    }\n",
       "</style>\n",
       "<table border=\"1\" class=\"dataframe\">\n",
       "  <thead>\n",
       "    <tr style=\"text-align: right;\">\n",
       "      <th></th>\n",
       "      <th>CommonName</th>\n",
       "      <th>HeadLength</th>\n",
       "      <th>BodyLength</th>\n",
       "    </tr>\n",
       "  </thead>\n",
       "  <tbody>\n",
       "    <tr>\n",
       "      <th>0</th>\n",
       "      <td>Estuarine Crocodile</td>\n",
       "      <td>24</td>\n",
       "      <td>161</td>\n",
       "    </tr>\n",
       "    <tr>\n",
       "      <th>1</th>\n",
       "      <td>Estuarine Crocodile</td>\n",
       "      <td>24</td>\n",
       "      <td>179</td>\n",
       "    </tr>\n",
       "    <tr>\n",
       "      <th>2</th>\n",
       "      <td>Estuarine Crocodile</td>\n",
       "      <td>32</td>\n",
       "      <td>226</td>\n",
       "    </tr>\n",
       "    <tr>\n",
       "      <th>3</th>\n",
       "      <td>Estuarine Crocodile</td>\n",
       "      <td>35</td>\n",
       "      <td>259</td>\n",
       "    </tr>\n",
       "    <tr>\n",
       "      <th>4</th>\n",
       "      <td>Estuarine Crocodile</td>\n",
       "      <td>40</td>\n",
       "      <td>287</td>\n",
       "    </tr>\n",
       "    <tr>\n",
       "      <th>5</th>\n",
       "      <td>Estuarine Crocodile</td>\n",
       "      <td>40</td>\n",
       "      <td>300</td>\n",
       "    </tr>\n",
       "    <tr>\n",
       "      <th>6</th>\n",
       "      <td>Estuarine Crocodile</td>\n",
       "      <td>46</td>\n",
       "      <td>342</td>\n",
       "    </tr>\n",
       "    <tr>\n",
       "      <th>7</th>\n",
       "      <td>Estuarine Crocodile</td>\n",
       "      <td>48</td>\n",
       "      <td>333</td>\n",
       "    </tr>\n",
       "    <tr>\n",
       "      <th>8</th>\n",
       "      <td>Estuarine Crocodile</td>\n",
       "      <td>52</td>\n",
       "      <td>406</td>\n",
       "    </tr>\n",
       "    <tr>\n",
       "      <th>9</th>\n",
       "      <td>Estuarine Crocodile</td>\n",
       "      <td>61</td>\n",
       "      <td>459</td>\n",
       "    </tr>\n",
       "    <tr>\n",
       "      <th>10</th>\n",
       "      <td>Estuarine Crocodile</td>\n",
       "      <td>51</td>\n",
       "      <td>376</td>\n",
       "    </tr>\n",
       "    <tr>\n",
       "      <th>11</th>\n",
       "      <td>Estuarine Crocodile</td>\n",
       "      <td>54</td>\n",
       "      <td>380</td>\n",
       "    </tr>\n",
       "    <tr>\n",
       "      <th>12</th>\n",
       "      <td>Estuarine Crocodile</td>\n",
       "      <td>38</td>\n",
       "      <td>265</td>\n",
       "    </tr>\n",
       "    <tr>\n",
       "      <th>13</th>\n",
       "      <td>Estuarine Crocodile</td>\n",
       "      <td>46</td>\n",
       "      <td>349</td>\n",
       "    </tr>\n",
       "    <tr>\n",
       "      <th>14</th>\n",
       "      <td>Estuarine Crocodile</td>\n",
       "      <td>38</td>\n",
       "      <td>264</td>\n",
       "    </tr>\n",
       "    <tr>\n",
       "      <th>15</th>\n",
       "      <td>Estuarine Crocodile</td>\n",
       "      <td>49</td>\n",
       "      <td>358</td>\n",
       "    </tr>\n",
       "    <tr>\n",
       "      <th>16</th>\n",
       "      <td>Estuarine Crocodile</td>\n",
       "      <td>39</td>\n",
       "      <td>276</td>\n",
       "    </tr>\n",
       "    <tr>\n",
       "      <th>17</th>\n",
       "      <td>Estuarine Crocodile</td>\n",
       "      <td>49</td>\n",
       "      <td>356</td>\n",
       "    </tr>\n",
       "    <tr>\n",
       "      <th>18</th>\n",
       "      <td>Estuarine Crocodile</td>\n",
       "      <td>40</td>\n",
       "      <td>270</td>\n",
       "    </tr>\n",
       "    <tr>\n",
       "      <th>19</th>\n",
       "      <td>Estuarine Crocodile</td>\n",
       "      <td>53</td>\n",
       "      <td>392</td>\n",
       "    </tr>\n",
       "    <tr>\n",
       "      <th>20</th>\n",
       "      <td>Estuarine Crocodile</td>\n",
       "      <td>61</td>\n",
       "      <td>442</td>\n",
       "    </tr>\n",
       "    <tr>\n",
       "      <th>21</th>\n",
       "      <td>Estuarine Crocodile</td>\n",
       "      <td>53</td>\n",
       "      <td>377</td>\n",
       "    </tr>\n",
       "    <tr>\n",
       "      <th>22</th>\n",
       "      <td>Estuarine Crocodile</td>\n",
       "      <td>44</td>\n",
       "      <td>322</td>\n",
       "    </tr>\n",
       "    <tr>\n",
       "      <th>23</th>\n",
       "      <td>Estuarine Crocodile</td>\n",
       "      <td>54</td>\n",
       "      <td>390</td>\n",
       "    </tr>\n",
       "    <tr>\n",
       "      <th>24</th>\n",
       "      <td>Estuarine Crocodile</td>\n",
       "      <td>50</td>\n",
       "      <td>377</td>\n",
       "    </tr>\n",
       "    <tr>\n",
       "      <th>25</th>\n",
       "      <td>Estuarine Crocodile</td>\n",
       "      <td>57</td>\n",
       "      <td>419</td>\n",
       "    </tr>\n",
       "    <tr>\n",
       "      <th>26</th>\n",
       "      <td>Estuarine Crocodile</td>\n",
       "      <td>40</td>\n",
       "      <td>276</td>\n",
       "    </tr>\n",
       "    <tr>\n",
       "      <th>27</th>\n",
       "      <td>Estuarine Crocodile</td>\n",
       "      <td>51</td>\n",
       "      <td>368</td>\n",
       "    </tr>\n",
       "  </tbody>\n",
       "</table>\n",
       "</div>"
      ],
      "text/plain": [
       "             CommonName  HeadLength  BodyLength\n",
       "0   Estuarine Crocodile          24         161\n",
       "1   Estuarine Crocodile          24         179\n",
       "2   Estuarine Crocodile          32         226\n",
       "3   Estuarine Crocodile          35         259\n",
       "4   Estuarine Crocodile          40         287\n",
       "5   Estuarine Crocodile          40         300\n",
       "6   Estuarine Crocodile          46         342\n",
       "7   Estuarine Crocodile          48         333\n",
       "8   Estuarine Crocodile          52         406\n",
       "9   Estuarine Crocodile          61         459\n",
       "10  Estuarine Crocodile          51         376\n",
       "11  Estuarine Crocodile          54         380\n",
       "12  Estuarine Crocodile          38         265\n",
       "13  Estuarine Crocodile          46         349\n",
       "14  Estuarine Crocodile          38         264\n",
       "15  Estuarine Crocodile          49         358\n",
       "16  Estuarine Crocodile          39         276\n",
       "17  Estuarine Crocodile          49         356\n",
       "18  Estuarine Crocodile          40         270\n",
       "19  Estuarine Crocodile          53         392\n",
       "20  Estuarine Crocodile          61         442\n",
       "21  Estuarine Crocodile          53         377\n",
       "22  Estuarine Crocodile          44         322\n",
       "23  Estuarine Crocodile          54         390\n",
       "24  Estuarine Crocodile          50         377\n",
       "25  Estuarine Crocodile          57         419\n",
       "26  Estuarine Crocodile          40         276\n",
       "27  Estuarine Crocodile          51         368"
      ]
     },
     "execution_count": 31,
     "metadata": {},
     "output_type": "execute_result"
    }
   ],
   "source": [
    "Crocodiles"
   ]
  },
  {
   "cell_type": "code",
   "execution_count": null,
   "id": "fed73336",
   "metadata": {},
   "outputs": [],
   "source": [
    "# make scatterplot"
   ]
  },
  {
   "cell_type": "code",
   "execution_count": 32,
   "id": "7360788b",
   "metadata": {},
   "outputs": [
    {
     "data": {
      "text/plain": [
       "Text(0, 0.5, 'Body Length')"
      ]
     },
     "execution_count": 32,
     "metadata": {},
     "output_type": "execute_result"
    },
    {
     "data": {
      "image/png": "[encoded data removed]",
      "text/plain": [
       "<Figure size 432x288 with 1 Axes>"
      ]
     },
     "metadata": {
      "needs_background": "light"
     },
     "output_type": "display_data"
    }
   ],
   "source": [
    "ScatterPlot = Crocodiles.plot.scatter(x= 'HeadLength', y= 'BodyLength')\n",
    "ScatterPlot.set_title(\"Head Length by Body Length in Estuarine Crocodiles\")\n",
    "ScatterPlot.set_xlabel(\"Head Length\")\n",
    "ScatterPlot.set_ylabel(\"Body Length\")"
   ]
  }
 ],
 "metadata": {
  "kernelspec": {
   "display_name": "Python 3",
   "language": "python",
   "name": "python3"
  },
  "language_info": {
   "codemirror_mode": {
    "name": "ipython",
    "version": 3
   },
   "file_extension": ".py",
   "mimetype": "text/x-python",
   "name": "python",
   "nbconvert_exporter": "python",
   "pygments_lexer": "ipython3",
   "version": "3.8.8"
  }
 },
 "nbformat": 4,
 "nbformat_minor": 5
}
